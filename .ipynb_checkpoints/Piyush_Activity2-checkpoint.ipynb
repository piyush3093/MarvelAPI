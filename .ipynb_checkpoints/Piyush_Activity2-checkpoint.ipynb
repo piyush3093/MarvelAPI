{
 "cells": [
  {
   "cell_type": "code",
   "execution_count": 1,
   "id": "6fb0fc18",
   "metadata": {},
   "outputs": [],
   "source": [
    "import requests\n",
    "import pandas as pd\n",
    "import hashlib\n",
    "import time\n",
    "from pprint import pprint"
   ]
  },
  {
   "cell_type": "code",
   "execution_count": 2,
   "id": "bc1d7df3",
   "metadata": {},
   "outputs": [],
   "source": [
    "m = hashlib.md5()"
   ]
  },
  {
   "cell_type": "code",
   "execution_count": 3,
   "id": "88a32549",
   "metadata": {},
   "outputs": [],
   "source": [
    "t = time.strftime(\"%Y%d%m%H%M%S\")"
   ]
  },
  {
   "cell_type": "code",
   "execution_count": 4,
   "id": "6efb288f",
   "metadata": {},
   "outputs": [],
   "source": [
    "private_key = '69b650321683071b76e2efd65d5c6f91ebf26200'\n",
    "public_key = '2fa0da01bf13cd7322443828e55ba972'"
   ]
  },
  {
   "cell_type": "code",
   "execution_count": 5,
   "id": "0d9b225a",
   "metadata": {},
   "outputs": [],
   "source": [
    "m.update(\"{}{}{}\".format(t, private_key, public_key).encode('utf-8'))"
   ]
  },
  {
   "cell_type": "code",
   "execution_count": 6,
   "id": "4d859149",
   "metadata": {},
   "outputs": [],
   "source": [
    "hash = m.hexdigest()"
   ]
  },
  {
   "cell_type": "code",
   "execution_count": 9,
   "id": "e4972a2d",
   "metadata": {},
   "outputs": [],
   "source": [
    "def get_response(start_char):\n",
    "    response = requests.get('https://gateway.marvel.com:443/v1/public/characters?apikey=2fa0da01bf13cd7322443828e55ba972&ts={}&hash={}&nameStartsWith={}&limit={}'.format(t, hash, start_char, 20))\n",
    "    return response.json()"
   ]
  },
  {
   "cell_type": "code",
   "execution_count": 10,
   "id": "d250bede",
   "metadata": {},
   "outputs": [],
   "source": [
    "raw_data = []"
   ]
  },
  {
   "cell_type": "code",
   "execution_count": 11,
   "id": "23a4cc74",
   "metadata": {},
   "outputs": [],
   "source": [
    "for i in range(65, 91):\n",
    "    raw_data.append(get_response(chr(i)))"
   ]
  },
  {
   "cell_type": "code",
   "execution_count": 12,
   "id": "afb49bb9",
   "metadata": {},
   "outputs": [
    {
     "data": {
      "text/plain": [
       "26"
      ]
     },
     "execution_count": 12,
     "metadata": {},
     "output_type": "execute_result"
    }
   ],
   "source": [
    "len(raw_data)"
   ]
  },
  {
   "cell_type": "code",
   "execution_count": 13,
   "id": "d81f5ba1",
   "metadata": {},
   "outputs": [],
   "source": [
    "character_info = []\n",
    "\n",
    "for i in range(0, 26):\n",
    "    for character in raw_data[i]['data']['results']:\n",
    "        character_info.append([character['name'], character['comics']['available'], character['events']['available'], \n",
    "                               character['series']['available'], character['stories']['available'], character['id']])"
   ]
  },
  {
   "cell_type": "code",
   "execution_count": 16,
   "id": "b76d597c",
   "metadata": {},
   "outputs": [],
   "source": [
    "marvels_database = pd.DataFrame(character_info, columns = ['name', 'number_of_comics', 'number_of_events', 'number_of_series',\n",
    "                                                          'number_of_stories', 'character_id'])"
   ]
  },
  {
   "cell_type": "code",
   "execution_count": 17,
   "id": "311da95e",
   "metadata": {},
   "outputs": [
    {
     "data": {
      "text/html": [
       "<div>\n",
       "<style scoped>\n",
       "    .dataframe tbody tr th:only-of-type {\n",
       "        vertical-align: middle;\n",
       "    }\n",
       "\n",
       "    .dataframe tbody tr th {\n",
       "        vertical-align: top;\n",
       "    }\n",
       "\n",
       "    .dataframe thead th {\n",
       "        text-align: right;\n",
       "    }\n",
       "</style>\n",
       "<table border=\"1\" class=\"dataframe\">\n",
       "  <thead>\n",
       "    <tr style=\"text-align: right;\">\n",
       "      <th></th>\n",
       "      <th>name</th>\n",
       "      <th>number_of_comics</th>\n",
       "      <th>number_of_events</th>\n",
       "      <th>number_of_series</th>\n",
       "      <th>number_of_stories</th>\n",
       "      <th>character_id</th>\n",
       "    </tr>\n",
       "  </thead>\n",
       "  <tbody>\n",
       "    <tr>\n",
       "      <th>0</th>\n",
       "      <td>A-Bomb (HAS)</td>\n",
       "      <td>4</td>\n",
       "      <td>0</td>\n",
       "      <td>2</td>\n",
       "      <td>7</td>\n",
       "      <td>1017100</td>\n",
       "    </tr>\n",
       "    <tr>\n",
       "      <th>1</th>\n",
       "      <td>A.I.M.</td>\n",
       "      <td>52</td>\n",
       "      <td>0</td>\n",
       "      <td>34</td>\n",
       "      <td>54</td>\n",
       "      <td>1009144</td>\n",
       "    </tr>\n",
       "    <tr>\n",
       "      <th>2</th>\n",
       "      <td>Aaron Stack</td>\n",
       "      <td>14</td>\n",
       "      <td>0</td>\n",
       "      <td>3</td>\n",
       "      <td>27</td>\n",
       "      <td>1010699</td>\n",
       "    </tr>\n",
       "    <tr>\n",
       "      <th>3</th>\n",
       "      <td>Abomination (Emil Blonsky)</td>\n",
       "      <td>54</td>\n",
       "      <td>1</td>\n",
       "      <td>27</td>\n",
       "      <td>64</td>\n",
       "      <td>1009146</td>\n",
       "    </tr>\n",
       "    <tr>\n",
       "      <th>4</th>\n",
       "      <td>Abomination (Ultimate)</td>\n",
       "      <td>2</td>\n",
       "      <td>0</td>\n",
       "      <td>2</td>\n",
       "      <td>3</td>\n",
       "      <td>1016823</td>\n",
       "    </tr>\n",
       "  </tbody>\n",
       "</table>\n",
       "</div>"
      ],
      "text/plain": [
       "                         name  number_of_comics  number_of_events  \\\n",
       "0                A-Bomb (HAS)                 4                 0   \n",
       "1                      A.I.M.                52                 0   \n",
       "2                 Aaron Stack                14                 0   \n",
       "3  Abomination (Emil Blonsky)                54                 1   \n",
       "4      Abomination (Ultimate)                 2                 0   \n",
       "\n",
       "   number_of_series  number_of_stories  character_id  \n",
       "0                 2                  7       1017100  \n",
       "1                34                 54       1009144  \n",
       "2                 3                 27       1010699  \n",
       "3                27                 64       1009146  \n",
       "4                 2                  3       1016823  "
      ]
     },
     "execution_count": 17,
     "metadata": {},
     "output_type": "execute_result"
    }
   ],
   "source": [
    "marvels_database.head()"
   ]
  },
  {
   "cell_type": "code",
   "execution_count": 18,
   "id": "90f1523b",
   "metadata": {},
   "outputs": [
    {
     "data": {
      "text/plain": [
       "(481, 6)"
      ]
     },
     "execution_count": 18,
     "metadata": {},
     "output_type": "execute_result"
    }
   ],
   "source": [
    "marvels_database.shape"
   ]
  },
  {
   "cell_type": "code",
   "execution_count": 24,
   "id": "f338a1be",
   "metadata": {},
   "outputs": [
    {
     "data": {
      "text/html": [
       "<div>\n",
       "<style scoped>\n",
       "    .dataframe tbody tr th:only-of-type {\n",
       "        vertical-align: middle;\n",
       "    }\n",
       "\n",
       "    .dataframe tbody tr th {\n",
       "        vertical-align: top;\n",
       "    }\n",
       "\n",
       "    .dataframe thead th {\n",
       "        text-align: right;\n",
       "    }\n",
       "</style>\n",
       "<table border=\"1\" class=\"dataframe\">\n",
       "  <thead>\n",
       "    <tr style=\"text-align: right;\">\n",
       "      <th></th>\n",
       "      <th>name</th>\n",
       "      <th>number_of_comics</th>\n",
       "      <th>number_of_events</th>\n",
       "      <th>number_of_series</th>\n",
       "      <th>number_of_stories</th>\n",
       "      <th>character_id</th>\n",
       "    </tr>\n",
       "  </thead>\n",
       "  <tbody>\n",
       "    <tr>\n",
       "      <th>476</th>\n",
       "      <td>Zeus</td>\n",
       "      <td>36</td>\n",
       "      <td>0</td>\n",
       "      <td>13</td>\n",
       "      <td>43</td>\n",
       "      <td>1011515</td>\n",
       "    </tr>\n",
       "    <tr>\n",
       "      <th>477</th>\n",
       "      <td>Zodiak</td>\n",
       "      <td>1</td>\n",
       "      <td>0</td>\n",
       "      <td>1</td>\n",
       "      <td>1</td>\n",
       "      <td>1011127</td>\n",
       "    </tr>\n",
       "    <tr>\n",
       "      <th>478</th>\n",
       "      <td>Zombie (Simon Garth)</td>\n",
       "      <td>1</td>\n",
       "      <td>0</td>\n",
       "      <td>1</td>\n",
       "      <td>1</td>\n",
       "      <td>1009741</td>\n",
       "    </tr>\n",
       "    <tr>\n",
       "      <th>479</th>\n",
       "      <td>Zuras</td>\n",
       "      <td>3</td>\n",
       "      <td>0</td>\n",
       "      <td>3</td>\n",
       "      <td>3</td>\n",
       "      <td>1011183</td>\n",
       "    </tr>\n",
       "    <tr>\n",
       "      <th>480</th>\n",
       "      <td>Zzzax</td>\n",
       "      <td>5</td>\n",
       "      <td>0</td>\n",
       "      <td>4</td>\n",
       "      <td>6</td>\n",
       "      <td>1009742</td>\n",
       "    </tr>\n",
       "  </tbody>\n",
       "</table>\n",
       "</div>"
      ],
      "text/plain": [
       "                     name  number_of_comics  number_of_events  \\\n",
       "476                  Zeus                36                 0   \n",
       "477                Zodiak                 1                 0   \n",
       "478  Zombie (Simon Garth)                 1                 0   \n",
       "479                 Zuras                 3                 0   \n",
       "480                 Zzzax                 5                 0   \n",
       "\n",
       "     number_of_series  number_of_stories  character_id  \n",
       "476                13                 43       1011515  \n",
       "477                 1                  1       1011127  \n",
       "478                 1                  1       1009741  \n",
       "479                 3                  3       1011183  \n",
       "480                 4                  6       1009742  "
      ]
     },
     "execution_count": 24,
     "metadata": {},
     "output_type": "execute_result"
    }
   ],
   "source": [
    "marvels_database.tail()"
   ]
  },
  {
   "cell_type": "code",
   "execution_count": null,
   "id": "7aa6f98e",
   "metadata": {},
   "outputs": [],
   "source": []
  }
 ],
 "metadata": {
  "kernelspec": {
   "display_name": "new-conda-env",
   "language": "python",
   "name": "new-conda-env"
  },
  "language_info": {
   "codemirror_mode": {
    "name": "ipython",
    "version": 3
   },
   "file_extension": ".py",
   "mimetype": "text/x-python",
   "name": "python",
   "nbconvert_exporter": "python",
   "pygments_lexer": "ipython3",
   "version": "3.10.4"
  }
 },
 "nbformat": 4,
 "nbformat_minor": 5
}
