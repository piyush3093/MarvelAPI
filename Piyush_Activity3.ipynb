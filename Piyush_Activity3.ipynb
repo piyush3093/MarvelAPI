{
 "cells": [
  {
   "cell_type": "code",
   "execution_count": 1,
   "id": "828b15b3",
   "metadata": {},
   "outputs": [],
   "source": [
    "import requests\n",
    "import pandas as pd\n",
    "import hashlib\n",
    "import time\n",
    "from pprint import pprint"
   ]
  },
  {
   "cell_type": "code",
   "execution_count": 15,
   "id": "c6a28a47",
   "metadata": {},
   "outputs": [],
   "source": [
    "def get_marvel_dataframe(public_key, hash, number_of_characters, start_string = \"\"):\n",
    "    if(number_of_characters > 100):\n",
    "        raise Exception('Please specify number of characters less than or equal to 100.')\n",
    "        \n",
    "    t = time.strftime('%Y%d%m%H%M%S')\n",
    "    \n",
    "    if(start_string == \"\"):\n",
    "        response = requests.get('https://gateway.marvel.com:443/v1/public/characters?apikey={}&ts={}&hash={}&limit={}'.format(public_key, t, hash, number_of_characters))\n",
    "    else:\n",
    "        response = requests.get('https://gateway.marvel.com:443/v1/public/characters?apikey={}&ts={}&nameStartsWith={}&hash={}&limit={}'.format(public_key, t, start_string, hash, number_of_characters))\n",
    "    \n",
    "    raw_data = response.json()\n",
    "    \n",
    "#     print(raw_data)\n",
    "    \n",
    "    character_info = []\n",
    "    for character in raw_data['data']['results']:\n",
    "        character_info.append([character['name'], character['comics']['available'], character['events']['available'], \n",
    "                               character['series']['available'], character['stories']['available'], character['id']])\n",
    "        \n",
    "    marvels_database = pd.DataFrame(character_info, columns = ['name', 'number_of_comics', 'number_of_events',\n",
    "                                                               'number_of_series', 'number_of_stories', 'character_id'])\n",
    "    \n",
    "    return marvels_database"
   ]
  },
  {
   "cell_type": "code",
   "execution_count": 19,
   "id": "78c066de",
   "metadata": {},
   "outputs": [],
   "source": [
    "private_key = '69b650321683071b76e2efd65d5c6f91ebf26200'\n",
    "public_key = '2fa0da01bf13cd7322443828e55ba972'\n",
    "\n",
    "m = hashlib.md5()\n",
    "m.update(\"{}{}{}\".format(time.strftime(\"%Y%d%m%H%M%S\"), private_key, public_key).encode('utf-8'))\n",
    "hash = m.hexdigest()\n",
    "\n",
    "avengers = get_marvel_dataframe(public_key, hash, 50, 'Iron')"
   ]
  },
  {
   "cell_type": "code",
   "execution_count": null,
   "id": "165ecd61",
   "metadata": {},
   "outputs": [],
   "source": [
    "def filter_string_data(dataframe, column, check):\n",
    "    return dataframe[dataframe['column'] == check]\n",
    "\n",
    "def filter_numeric_data(dataframe, column, more_than, less_than):\n",
    "    return dataframe[dataframe['column'] > more_than and dataframe['column'] < less_than]"
   ]
  }
 ],
 "metadata": {
  "kernelspec": {
   "display_name": "Python 3 (ipykernel)",
   "language": "python",
   "name": "python3"
  },
  "language_info": {
   "codemirror_mode": {
    "name": "ipython",
    "version": 3
   },
   "file_extension": ".py",
   "mimetype": "text/x-python",
   "name": "python",
   "nbconvert_exporter": "python",
   "pygments_lexer": "ipython3",
   "version": "3.9.5"
  }
 },
 "nbformat": 4,
 "nbformat_minor": 5
}
